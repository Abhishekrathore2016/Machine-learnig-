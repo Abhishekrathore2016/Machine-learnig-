{
  "nbformat": 4,
  "nbformat_minor": 0,
  "metadata": {
    "kernelspec": {
      "display_name": "Python 3",
      "language": "python",
      "name": "python3"
    },
    "language_info": {
      "codemirror_mode": {
        "name": "ipython",
        "version": 3
      },
      "file_extension": ".py",
      "mimetype": "text/x-python",
      "name": "python",
      "nbconvert_exporter": "python",
      "pygments_lexer": "ipython3",
      "version": "3.7.3"
    },
    "colab": {
      "name": "Linear Regression",
      "provenance": [],
      "collapsed_sections": []
    }
  },
  "cells": [
    {
      "cell_type": "code",
      "metadata": {
        "id": "Ayzj2PTp9pcc",
        "colab_type": "code",
        "colab": {}
      },
      "source": [
        "#Univariant Linear Regression\n",
        "import pandas as pd\n",
        "import numpy as np\n",
        "import matplotlib.pyplot as plt #for regression line"
      ],
      "execution_count": 0,
      "outputs": []
    },
    {
      "cell_type": "markdown",
      "metadata": {
        "id": "ouTG8Tvb9pck",
        "colab_type": "text"
      },
      "source": [
        "PREPARING THE DATASET"
      ]
    },
    {
      "cell_type": "code",
      "metadata": {
        "id": "j76ojSvH9pcm",
        "colab_type": "code",
        "colab": {
          "base_uri": "https://localhost:8080/",
          "height": 374
        },
        "outputId": "365fae96-24f6-41e5-c560-5983f53fb72e"
      },
      "source": [
        "#input - independent\n",
        "#output - dependent\n",
        "# intialise data of lists. \n",
        "data = {'passenger':[892,893,894,895,896,897,898,899,900,901,902,903,904,905,905,906,907,908,909,910], #colomn1\n",
        "        'Scores':[0,1,0,0,1,0,1,0,1,0,0,0,1,0,1,1,0,0,1,0]} #colomn2\n",
        "  \n",
        "# Create DataFrame \n",
        "passenger = pd.DataFrame(data) \n",
        "  \n",
        "# Print the output. \n",
        "print(passenger)"
      ],
      "execution_count": 4,
      "outputs": [
        {
          "output_type": "stream",
          "text": [
            "    passenger  Scores\n",
            "0         892       0\n",
            "1         893       1\n",
            "2         894       0\n",
            "3         895       0\n",
            "4         896       1\n",
            "5         897       0\n",
            "6         898       1\n",
            "7         899       0\n",
            "8         900       1\n",
            "9         901       0\n",
            "10        902       0\n",
            "11        903       0\n",
            "12        904       1\n",
            "13        905       0\n",
            "14        905       1\n",
            "15        906       1\n",
            "16        907       0\n",
            "17        908       0\n",
            "18        909       1\n",
            "19        910       0\n"
          ],
          "name": "stdout"
        }
      ]
    },
    {
      "cell_type": "markdown",
      "metadata": {
        "id": "Xc2RcBQF9pcs",
        "colab_type": "text"
      },
      "source": [
        "SEPARATING THE DEPENDENT AND INDEPENDENT VARIABLES"
      ]
    },
    {
      "cell_type": "code",
      "metadata": {
        "id": "VrEJjZbh9pct",
        "colab_type": "code",
        "colab": {}
      },
      "source": [
        "#Vertical splitting\n",
        "X = passenger.iloc[ : ,   : 1 ].values #All the rows till last colomn\n",
        "Y = passenger.iloc[ : , -1 ].values #Last colomn is left -1 and 1 both will work"
      ],
      "execution_count": 0,
      "outputs": []
    },
    {
      "cell_type": "code",
      "metadata": {
        "id": "WfX4ctV9hmnD",
        "colab_type": "code",
        "colab": {
          "base_uri": "https://localhost:8080/",
          "height": 34
        },
        "outputId": "c5b12ddc-214a-49e7-bc78-bd319e0874c7"
      },
      "source": [
        "Y"
      ],
      "execution_count": 9,
      "outputs": [
        {
          "output_type": "execute_result",
          "data": {
            "text/plain": [
              "array([0, 1, 0, 0, 1, 0, 1, 0, 1, 0, 0, 0, 1, 0, 1, 1, 0, 0, 1, 0])"
            ]
          },
          "metadata": {
            "tags": []
          },
          "execution_count": 9
        }
      ]
    },
    {
      "cell_type": "markdown",
      "metadata": {
        "id": "QXs6YOrO9pcx",
        "colab_type": "text"
      },
      "source": [
        "SPLITTING THE DATASET INTO TRAIN AND TEST SETS"
      ]
    },
    {
      "cell_type": "code",
      "metadata": {
        "id": "OFUfUbl79pcy",
        "colab_type": "code",
        "colab": {}
      },
      "source": [
        "#Horizontal splitting\n",
        "#Hold out CV\n",
        "from sklearn.model_selection import train_test_split\n",
        "X_train, X_test, Y_train, Y_test = train_test_split( X, Y, test_size = 1/2, random_state = 0)"
      ],
      "execution_count": 0,
      "outputs": []
    },
    {
      "cell_type": "code",
      "metadata": {
        "id": "tMqmVv_TTDPv",
        "colab_type": "code",
        "colab": {
          "base_uri": "https://localhost:8080/",
          "height": 187
        },
        "outputId": "83740ab7-2908-4db1-ff9f-22cb5224f1a7"
      },
      "source": [
        "X_test"
      ],
      "execution_count": 11,
      "outputs": [
        {
          "output_type": "execute_result",
          "data": {
            "text/plain": [
              "array([[909],\n",
              "       [893],\n",
              "       [910],\n",
              "       [900],\n",
              "       [902],\n",
              "       [908],\n",
              "       [898],\n",
              "       [905],\n",
              "       [896],\n",
              "       [894]])"
            ]
          },
          "metadata": {
            "tags": []
          },
          "execution_count": 11
        }
      ]
    },
    {
      "cell_type": "code",
      "metadata": {
        "id": "be_bAhJCS5-J",
        "colab_type": "code",
        "colab": {
          "base_uri": "https://localhost:8080/",
          "height": 187
        },
        "outputId": "e96ab9e3-7f4f-469b-9a0b-3b0d68117b26"
      },
      "source": [
        "X_train"
      ],
      "execution_count": 12,
      "outputs": [
        {
          "output_type": "execute_result",
          "data": {
            "text/plain": [
              "array([[897],\n",
              "       [905],\n",
              "       [901],\n",
              "       [899],\n",
              "       [907],\n",
              "       [903],\n",
              "       [895],\n",
              "       [892],\n",
              "       [906],\n",
              "       [904]])"
            ]
          },
          "metadata": {
            "tags": []
          },
          "execution_count": 12
        }
      ]
    },
    {
      "cell_type": "code",
      "metadata": {
        "id": "GKvwpohQS2Ss",
        "colab_type": "code",
        "colab": {
          "base_uri": "https://localhost:8080/",
          "height": 34
        },
        "outputId": "3bf73632-1d70-46df-f6dd-cab3008632df"
      },
      "source": [
        "Y_test"
      ],
      "execution_count": 13,
      "outputs": [
        {
          "output_type": "execute_result",
          "data": {
            "text/plain": [
              "array([1, 1, 0, 1, 0, 0, 1, 0, 1, 0])"
            ]
          },
          "metadata": {
            "tags": []
          },
          "execution_count": 13
        }
      ]
    },
    {
      "cell_type": "code",
      "metadata": {
        "id": "mDxLict6ibN-",
        "colab_type": "code",
        "colab": {
          "base_uri": "https://localhost:8080/",
          "height": 34
        },
        "outputId": "a85f9e3b-0fd9-4259-e8df-bc080ef15dd4"
      },
      "source": [
        "Y_train"
      ],
      "execution_count": 14,
      "outputs": [
        {
          "output_type": "execute_result",
          "data": {
            "text/plain": [
              "array([0, 1, 0, 0, 0, 0, 0, 0, 1, 1])"
            ]
          },
          "metadata": {
            "tags": []
          },
          "execution_count": 14
        }
      ]
    },
    {
      "cell_type": "code",
      "metadata": {
        "id": "CPAYYivU9pc2",
        "colab_type": "code",
        "colab": {}
      },
      "source": [
        "#Model\n",
        "from sklearn.linear_model import LinearRegression\n",
        "regressor = LinearRegression()\n",
        "regressor = regressor.fit(X_train, Y_train)"
      ],
      "execution_count": 0,
      "outputs": []
    },
    {
      "cell_type": "code",
      "metadata": {
        "id": "WYcEcbB59pc6",
        "colab_type": "code",
        "colab": {}
      },
      "source": [
        "Y_pred = regressor.predict(X_test)"
      ],
      "execution_count": 0,
      "outputs": []
    },
    {
      "cell_type": "code",
      "metadata": {
        "id": "UBfIy9J69pc9",
        "colab_type": "code",
        "colab": {
          "base_uri": "https://localhost:8080/",
          "height": 282
        },
        "outputId": "0c800e71-eb58-4ee3-e7bc-9b94ddb1cf85"
      },
      "source": [
        "#Plots data points\n",
        "#X_test VS Y prediction\n",
        "\n"
      ],
      "execution_count": 20,
      "outputs": [
        {
          "output_type": "execute_result",
          "data": {
            "text/plain": [
              "<matplotlib.collections.PathCollection at 0x7f4ec9e68ac8>"
            ]
          },
          "metadata": {
            "tags": []
          },
          "execution_count": 20
        },
        {
          "output_type": "display_data",
          "data": {
            "image/png": "[encoded data removed]",
            "text/plain": [
              "<Figure size 432x288 with 1 Axes>"
            ]
          },
          "metadata": {
            "tags": []
          }
        }
      ]
    },
    {
      "cell_type": "code",
      "metadata": {
        "id": "HZLdMjh7jmVT",
        "colab_type": "code",
        "colab": {
          "base_uri": "https://localhost:8080/",
          "height": 282
        },
        "outputId": "9fe8d9d7-4f57-4ead-81ca-3196e453df52"
      },
      "source": [
        "plt.scatter(X_train , Y_train, color = 'red')\n",
        "plt.plot(X_train , regressor.predict(X_train), color ='blue')"
      ],
      "execution_count": 22,
      "outputs": [
        {
          "output_type": "execute_result",
          "data": {
            "text/plain": [
              "[<matplotlib.lines.Line2D at 0x7f4ec9da0d30>]"
            ]
          },
          "metadata": {
            "tags": []
          },
          "execution_count": 22
        },
        {
          "output_type": "display_data",
          "data": {
            "image/png": "[encoded data removed]",
            "text/plain": [
              "<Figure size 432x288 with 1 Axes>"
            ]
          },
          "metadata": {
            "tags": []
          }
        }
      ]
    },
    {
      "cell_type": "code",
      "metadata": {
        "id": "vg964kWJ9pdB",
        "colab_type": "code",
        "colab": {
          "base_uri": "https://localhost:8080/",
          "height": 282
        },
        "outputId": "b62a1689-6c5c-4e0f-dff4-74b848cf0c8a"
      },
      "source": [
        "plt.scatter(X_test , Y_test, color = 'purple')\n",
        "plt.plot(X_test , regressor.predict(X_test), color ='pink')"
      ],
      "execution_count": 25,
      "outputs": [
        {
          "output_type": "execute_result",
          "data": {
            "text/plain": [
              "[<matplotlib.lines.Line2D at 0x7f4ec9c460b8>]"
            ]
          },
          "metadata": {
            "tags": []
          },
          "execution_count": 25
        },
        {
          "output_type": "display_data",
          "data": {
            "image/png": "[encoded data removed]",
            "text/plain": [
              "<Figure size 432x288 with 1 Axes>"
            ]
          },
          "metadata": {
            "tags": []
          }
        }
      ]
    },
    {
      "cell_type": "code",
      "metadata": {
        "id": "jx6qnMDp9pdF",
        "colab_type": "code",
        "colab": {
          "base_uri": "https://localhost:8080/",
          "height": 51
        },
        "outputId": "2fbb58f4-837d-4177-ac2d-283ae1855380"
      },
      "source": [
        "#Mean Square Error\n",
        "from sklearn.metrics import mean_squared_error, r2_score\n",
        "import math\n",
        "print(mean_squared_error(Y_test, Y_pred))\n",
        "print(r2_score(Y_test, Y_pred))"
      ],
      "execution_count": 27,
      "outputs": [
        {
          "output_type": "stream",
          "text": [
            "0.5074895097682538\n",
            "-1.0299580390730152\n"
          ],
          "name": "stdout"
        }
      ]
    },
    {
      "cell_type": "code",
      "metadata": {
        "id": "mIOTQDmx9pdJ",
        "colab_type": "code",
        "colab": {}
      },
      "source": [
        ""
      ],
      "execution_count": 0,
      "outputs": []
    }
  ]
}
