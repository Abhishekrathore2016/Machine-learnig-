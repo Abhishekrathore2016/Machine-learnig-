{
  "nbformat": 4,
  "nbformat_minor": 0,
  "metadata": {
    "colab": {
      "name": "NUMPY",
      "provenance": [],
      "collapsed_sections": []
    },
    "kernelspec": {
      "name": "python3",
      "display_name": "Python 3"
    }
  },
  "cells": [
    {
      "cell_type": "code",
      "metadata": {
        "id": "O_MdLfldlT7E",
        "colab_type": "code",
        "colab": {
          "base_uri": "https://localhost:8080/",
          "height": 85
        },
        "outputId": "1831ded4-f84d-4b89-de9b-b22565dfdad0"
      },
      "source": [
        "#We can easily manipulate numpy but not list\n",
        "#list is converted to numpy array\n",
        "my_list = [1,2,3]\n",
        "import numpy as np\n",
        "arr = np.array(my_list)\n",
        "print(\"Type/Class of this object:\",type(arr))\n",
        "print(\"Here is the vector\\n--------------------\\n\",arr)"
      ],
      "execution_count": 6,
      "outputs": [
        {
          "output_type": "stream",
          "text": [
            "Type/Class of this object: <class 'numpy.ndarray'>\n",
            "Here is the vector\n",
            "--------------------\n",
            " [1 2 3]\n"
          ],
          "name": "stdout"
        }
      ]
    },
    {
      "cell_type": "code",
      "metadata": {
        "id": "Is0v_jLmlfQS",
        "colab_type": "code",
        "colab": {
          "base_uri": "https://localhost:8080/",
          "height": 204
        },
        "outputId": "007c546d-65ff-4fae-d2d8-692c9850ff1f"
      },
      "source": [
        "#Matrix(2D array) is converted to numpy array\n",
        "my_mat = [[1,2,3],[4,5,6],[7,8,9]]\n",
        "mat = np.array(my_mat)\n",
        "print(\"Type/Class of this object:\",type(mat))\n",
        "print(\"Here is the matrix\\n----------\\n\",mat,\"\\n----------\")\n",
        "print(\"Dimension of this matrix: \",mat.ndim,sep='') #ndim gives the dimensison, 2 for a matrix, 1 for a vector\n",
        "print(\"Size of this matrix: \", mat.size,sep='') #size gives the total number of elements\n",
        "print(\"Shape of this matrix: \", mat.shape,sep='') #shape gives the number of elements along each axes (dimension)\n",
        "print(\"Data type of this matrix: \", mat.dtype,sep='') #dtype gives the data type contained in the array"
      ],
      "execution_count": 7,
      "outputs": [
        {
          "output_type": "stream",
          "text": [
            "Type/Class of this object: <class 'numpy.ndarray'>\n",
            "Here is the matrix\n",
            "----------\n",
            " [[1 2 3]\n",
            " [4 5 6]\n",
            " [7 8 9]] \n",
            "----------\n",
            "Dimension of this matrix: 2\n",
            "Size of this matrix: 9\n",
            "Shape of this matrix: (3, 3)\n",
            "Data type of this matrix: int64\n"
          ],
          "name": "stdout"
        }
      ]
    },
    {
      "cell_type": "code",
      "metadata": {
        "id": "oIDJO7sVlzk7",
        "colab_type": "code",
        "colab": {
          "base_uri": "https://localhost:8080/",
          "height": 34
        },
        "outputId": "9f09434e-4e23-4d29-e37c-c370fddc7435"
      },
      "source": [
        "print(\"A series of numbers:\",np.arange(5,16)) # A series of numbers from low to high"
      ],
      "execution_count": 9,
      "outputs": [
        {
          "output_type": "stream",
          "text": [
            "A series of numbers: [ 5  6  7  8  9 10 11 12 13 14 15]\n"
          ],
          "name": "stdout"
        }
      ]
    },
    {
      "cell_type": "code",
      "metadata": {
        "id": "0hVcxLtfl67h",
        "colab_type": "code",
        "colab": {
          "base_uri": "https://localhost:8080/",
          "height": 34
        },
        "outputId": "db4899e9-794d-4235-e628-d17caf2b478b"
      },
      "source": [
        "print(\"Numbers spaced apart by 2:\",np.arange(0,11,2)) # Numbers spaced apart by 2"
      ],
      "execution_count": 8,
      "outputs": [
        {
          "output_type": "stream",
          "text": [
            "Numbers spaced apart by 2: [ 0  2  4  6  8 10]\n"
          ],
          "name": "stdout"
        }
      ]
    },
    {
      "cell_type": "code",
      "metadata": {
        "id": "4f7fJ91EmAjP",
        "colab_type": "code",
        "colab": {
          "base_uri": "https://localhost:8080/",
          "height": 34
        },
        "outputId": "db60d727-35e6-47d7-d22b-b848211b1479"
      },
      "source": [
        "print(\"Numbers spaced apart by float:\",np.arange(0,11,2.5)) # Numbers spaced apart by 2.5"
      ],
      "execution_count": 10,
      "outputs": [
        {
          "output_type": "stream",
          "text": [
            "Numbers spaced apart by float: [ 0.   2.5  5.   7.5 10. ]\n"
          ],
          "name": "stdout"
        }
      ]
    },
    {
      "cell_type": "code",
      "metadata": {
        "id": "vUFpbXYemFoN",
        "colab_type": "code",
        "colab": {
          "base_uri": "https://localhost:8080/",
          "height": 51
        },
        "outputId": "0d4c2a08-0ffa-45f6-a804-1822bf3595b2"
      },
      "source": [
        "#reverse\n",
        "print(\"Every 5th number from 50 in reverse order\\n\",np.arange(50,-1,-5))"
      ],
      "execution_count": 11,
      "outputs": [
        {
          "output_type": "stream",
          "text": [
            "Every 5th number from 50 in reverse order\n",
            " [50 45 40 35 30 25 20 15 10  5  0]\n"
          ],
          "name": "stdout"
        }
      ]
    },
    {
      "cell_type": "code",
      "metadata": {
        "id": "LWEV02IhmOPn",
        "colab_type": "code",
        "colab": {
          "base_uri": "https://localhost:8080/",
          "height": 85
        },
        "outputId": "472d3727-8b69-4a30-d071-8b55929933e5"
      },
      "source": [
        "print(\"21 linearly spaced numbers between 1 and 5\\n--------------------------------------------\")\n",
        "print(np.linspace(1,5,21))"
      ],
      "execution_count": 12,
      "outputs": [
        {
          "output_type": "stream",
          "text": [
            "21 linearly spaced numbers between 1 and 5\n",
            "--------------------------------------------\n",
            "[1.  1.2 1.4 1.6 1.8 2.  2.2 2.4 2.6 2.8 3.  3.2 3.4 3.6 3.8 4.  4.2 4.4\n",
            " 4.6 4.8 5. ]\n"
          ],
          "name": "stdout"
        }
      ]
    },
    {
      "cell_type": "markdown",
      "metadata": {
        "id": "zApjqOA8mXNs",
        "colab_type": "text"
      },
      "source": [
        "# Zeroes, Ones, empty, and Identity **matriX**\n",
        "\n",
        "> Indented block\n",
        "\n"
      ]
    },
    {
      "cell_type": "code",
      "metadata": {
        "id": "wO5PVJ6VmYwT",
        "colab_type": "code",
        "colab": {
          "base_uri": "https://localhost:8080/",
          "height": 153
        },
        "outputId": "56d2fae9-7161-41c3-de89-c9d6c9a2bc7e"
      },
      "source": [
        "print(\"Vector of zeroes\\n---------------------\")\n",
        "print(np.zeros(5))\n",
        "print(\"Matrix of zeroes\\n--------------------\")\n",
        "print(np.zeros((3,4))) # Notice Tuples"
      ],
      "execution_count": 13,
      "outputs": [
        {
          "output_type": "stream",
          "text": [
            "Vector of zeroes\n",
            "---------------------\n",
            "[0. 0. 0. 0. 0.]\n",
            "Matrix of zeroes\n",
            "--------------------\n",
            "[[0. 0. 0. 0.]\n",
            " [0. 0. 0. 0.]\n",
            " [0. 0. 0. 0.]]\n"
          ],
          "name": "stdout"
        }
      ]
    },
    {
      "cell_type": "code",
      "metadata": {
        "id": "PaErV1uZmsnb",
        "colab_type": "code",
        "colab": {
          "base_uri": "https://localhost:8080/",
          "height": 272
        },
        "outputId": "22b09a0d-b92e-4cde-e8be-97f3359c09ee"
      },
      "source": [
        "print(\"Vector of ones\\n---------------------\")\n",
        "print(np.ones(5))\n",
        "print(\"Matrix of ones\\n---------------------\")\n",
        "print(np.ones((5,2))) # Note matrix dimension specified by Tuples\n",
        "print(\"Matrix of 5's\\n---------------------\")\n",
        "print(5*np.ones((3,5)))"
      ],
      "execution_count": 14,
      "outputs": [
        {
          "output_type": "stream",
          "text": [
            "Vector of ones\n",
            "---------------------\n",
            "[1. 1. 1. 1. 1.]\n",
            "Matrix of ones\n",
            "---------------------\n",
            "[[1. 1.]\n",
            " [1. 1.]\n",
            " [1. 1.]\n",
            " [1. 1.]\n",
            " [1. 1.]]\n",
            "Matrix of 5's\n",
            "---------------------\n",
            "[[5. 5. 5. 5. 5.]\n",
            " [5. 5. 5. 5. 5.]\n",
            " [5. 5. 5. 5. 5.]]\n"
          ],
          "name": "stdout"
        }
      ]
    },
    {
      "cell_type": "code",
      "metadata": {
        "id": "ZWtph-h9myZY",
        "colab_type": "code",
        "colab": {
          "base_uri": "https://localhost:8080/",
          "height": 187
        },
        "outputId": "aafbd840-3e2c-47f3-da56-e398937ce1f1"
      },
      "source": [
        "#Takes random values\n",
        "print(\"Empty matrix\\n-------------\\n\", np.empty((4,6)))"
      ],
      "execution_count": 19,
      "outputs": [
        {
          "output_type": "stream",
          "text": [
            "Empty matrix\n",
            "-------------\n",
            " [[2.57231286e-316 2.72307719e-316 0.00000000e+000 2.72306296e-316\n",
            "  0.00000000e+000 2.67697889e-316]\n",
            " [2.72304874e-316 2.72305585e-316 0.00000000e+000 0.00000000e+000\n",
            "  0.00000000e+000 2.67695043e-316]\n",
            " [2.67699312e-316 2.67695755e-316 2.67702869e-316 3.02114897e-316\n",
            "  2.67700735e-316 2.67705715e-316]\n",
            " [2.67702158e-316 0.00000000e+000 2.67705004e-316 2.67700024e-316\n",
            "  2.67703581e-316 0.00000000e+000]]\n"
          ],
          "name": "stdout"
        }
      ]
    },
    {
      "cell_type": "code",
      "metadata": {
        "id": "l8Q8E6-lm9_o",
        "colab_type": "code",
        "colab": {
          "base_uri": "https://localhost:8080/",
          "height": 102
        },
        "outputId": "ba767f81-4f83-44bd-ea2f-2221125f9058"
      },
      "source": [
        "mat1 = np.eye(4) \n",
        "print(\"Identity matrix of dimension\", mat1.shape)\n",
        "print(mat1)"
      ],
      "execution_count": 16,
      "outputs": [
        {
          "output_type": "stream",
          "text": [
            "Identity matrix of dimension (4, 4)\n",
            "[[1. 0. 0. 0.]\n",
            " [0. 1. 0. 0.]\n",
            " [0. 0. 1. 0.]\n",
            " [0. 0. 0. 1.]]\n"
          ],
          "name": "stdout"
        }
      ]
    },
    {
      "cell_type": "code",
      "metadata": {
        "id": "nFcq2ROPnKHs",
        "colab_type": "code",
        "colab": {
          "base_uri": "https://localhost:8080/",
          "height": 68
        },
        "outputId": "695cae61-18ac-439b-9ce0-1e138019345c"
      },
      "source": [
        "print(\"Random number generation (from Uniform distribution)\")\n",
        "print(np.random.rand(2,3)) # 2 by 3 matrix with random numbers ranging from 0 to 1, Note no Tuple is necessary"
      ],
      "execution_count": 17,
      "outputs": [
        {
          "output_type": "stream",
          "text": [
            "Random number generation (from Uniform distribution)\n",
            "[[0.99799733 0.56191295 0.5211296 ]\n",
            " [0.67832034 0.50276064 0.44680097]]\n"
          ],
          "name": "stdout"
        }
      ]
    },
    {
      "cell_type": "code",
      "metadata": {
        "id": "c1dZONW3nabN",
        "colab_type": "code",
        "colab": {
          "base_uri": "https://localhost:8080/",
          "height": 102
        },
        "outputId": "d6bcca58-c595-4b8c-a459-50b84efaa829"
      },
      "source": [
        "print(\"Numbers from Normal distribution with zero mean and standard deviation 1 i.e. standard normal\")\n",
        "print(np.random.randn(4,3))"
      ],
      "execution_count": 20,
      "outputs": [
        {
          "output_type": "stream",
          "text": [
            "Numbers from Normal distribution with zero mean and standard deviation 1 i.e. standard normal\n",
            "[[ 0.20412657 -1.19815924 -0.04893663]\n",
            " [ 0.43655694  0.05743625  0.16215922]\n",
            " [ 1.94615002 -0.87087056 -2.10226483]\n",
            " [-1.33665651  0.48978287 -1.22741289]]\n"
          ],
          "name": "stdout"
        }
      ]
    },
    {
      "cell_type": "code",
      "metadata": {
        "id": "uEvnFLDnnoAK",
        "colab_type": "code",
        "colab": {
          "base_uri": "https://localhost:8080/",
          "height": 170
        },
        "outputId": "2d5a26ed-28b3-4703-e544-650087ee15cc"
      },
      "source": [
        "print(\"Random integer vector:\",np.random.randint(1,100,10)) #randint (low, high, # of samples to be drawn)\n",
        "print (\"\\nRandom integer matrix\")\n",
        "print(np.random.randint(1,100,(4,4))) #randint (low, high, # of samples to be drawn in a tuple to form a matrix)\n",
        "print(\"\\n20 samples drawn from a dice throw:\",np.random.randint(1,7,20)) # 20 samples drawn from a dice throw"
      ],
      "execution_count": 21,
      "outputs": [
        {
          "output_type": "stream",
          "text": [
            "Random integer vector: [55 44 37 16 20 24 74  2 95 10]\n",
            "\n",
            "Random integer matrix\n",
            "[[40 36 44 45]\n",
            " [77 39 13 71]\n",
            " [87 64 81  4]\n",
            " [33 48 41  1]]\n",
            "\n",
            "20 samples drawn from a dice throw: [4 6 4 2 1 3 6 4 1 6 6 4 3 1 4 3 1 5 3 1]\n"
          ],
          "name": "stdout"
        }
      ]
    },
    {
      "cell_type": "markdown",
      "metadata": {
        "id": "dBS6rFC0nvTF",
        "colab_type": "text"
      },
      "source": [
        "# Reshaping, min, max, **sort**"
      ]
    },
    {
      "cell_type": "code",
      "metadata": {
        "id": "R8rKzQ3unymM",
        "colab_type": "code",
        "colab": {
          "base_uri": "https://localhost:8080/",
          "height": 1000
        },
        "outputId": "580760ec-d869-4adf-dabd-c98189c919b4"
      },
      "source": [
        "from numpy.random import randint as ri#random integer\n",
        "a = ri(1,100,30) \n",
        "b = a.reshape(2,3,5)\n",
        "c = a.reshape(6,5)\n",
        "print (\"Shape of a:\", a.shape)\n",
        "print (\"Shape of b:\", b.shape)\n",
        "print (\"Shape of c:\", c.shape)\n",
        "print(\"\\na looks like\\n\",'-'*20,\"\\n\",a,\"\\n\",'-'*20)\n",
        "print(\"\\nb looks like\\n\",'-'*20,\"\\n\",b,\"\\n\",'-'*20)\n",
        "print(\"\\nc looks like\\n\",'-'*20,\"\\n\",c,\"\\n\",'-'*20)\n",
        "\n",
        "A = ri(1,100,10) # Vector of random interegrs\n",
        "print(\"\\nVector of random integers\\n\",'-'*50,\"\\n\",A)\n",
        "print(\"\\nHere is the sorted vector\\n\",'-'*50,\"\\n\",np.sort(A, kind='mergesort'))\n",
        "\n",
        "M = ri(1,100,25).reshape(5,5) # Matrix of random interegrs\n",
        "print(\"\\n5x5 Matrix of random integers\\n\",'-'*50,\"\\n\",M)\n",
        "print(\"\\nHere is the sorted matrix along each row\\n\",'-'*50,\"\\n\",np.sort(M, kind='mergesort')) # Default axis =1\n",
        "print(\"\\nHere is the sorted matrix along each column\\n\",'-'*50,\"\\n\",np.sort(M, axis=0, kind='mergesort'))"
      ],
      "execution_count": 22,
      "outputs": [
        {
          "output_type": "stream",
          "text": [
            "Shape of a: (30,)\n",
            "Shape of b: (2, 3, 5)\n",
            "Shape of c: (6, 5)\n",
            "\n",
            "a looks like\n",
            " -------------------- \n",
            " [45  9 70 15 38 94 12 88 70 30 41 72 87 61 58 35 73 27 95 60 25 36  4 80\n",
            " 37 64 87 42 41 48] \n",
            " --------------------\n",
            "\n",
            "b looks like\n",
            " -------------------- \n",
            " [[[45  9 70 15 38]\n",
            "  [94 12 88 70 30]\n",
            "  [41 72 87 61 58]]\n",
            "\n",
            " [[35 73 27 95 60]\n",
            "  [25 36  4 80 37]\n",
            "  [64 87 42 41 48]]] \n",
            " --------------------\n",
            "\n",
            "c looks like\n",
            " -------------------- \n",
            " [[45  9 70 15 38]\n",
            " [94 12 88 70 30]\n",
            " [41 72 87 61 58]\n",
            " [35 73 27 95 60]\n",
            " [25 36  4 80 37]\n",
            " [64 87 42 41 48]] \n",
            " --------------------\n",
            "\n",
            "Vector of random integers\n",
            " -------------------------------------------------- \n",
            " [ 9 97 56 89 64 26 67 41 29 32]\n",
            "\n",
            "Here is the sorted vector\n",
            " -------------------------------------------------- \n",
            " [ 9 26 29 32 41 56 64 67 89 97]\n",
            "\n",
            "5x5 Matrix of random integers\n",
            " -------------------------------------------------- \n",
            " [[63 55 38 97 58]\n",
            " [36 27 98 59 94]\n",
            " [36 79 49 46 42]\n",
            " [60 46 13 99 34]\n",
            " [27 92 74 90 78]]\n",
            "\n",
            "Here is the sorted matrix along each row\n",
            " -------------------------------------------------- \n",
            " [[38 55 58 63 97]\n",
            " [27 36 59 94 98]\n",
            " [36 42 46 49 79]\n",
            " [13 34 46 60 99]\n",
            " [27 74 78 90 92]]\n",
            "\n",
            "Here is the sorted matrix along each column\n",
            " -------------------------------------------------- \n",
            " [[27 27 13 46 34]\n",
            " [36 46 38 59 42]\n",
            " [36 55 49 90 58]\n",
            " [60 79 74 97 78]\n",
            " [63 92 98 99 94]]\n"
          ],
          "name": "stdout"
        }
      ]
    },
    {
      "cell_type": "code",
      "metadata": {
        "id": "eKnOZVn2qAi2",
        "colab_type": "code",
        "colab": {
          "base_uri": "https://localhost:8080/",
          "height": 102
        },
        "outputId": "34a57b87-53df-41ec-ab19-4c0ea545a153"
      },
      "source": [
        "print(\"Max of a:\", a.max())\n",
        "print(\"Max of b:\", b.max())\n",
        "print(\"Max of a location:\", a.argmax()) #maximum values\n",
        "print(\"Max of b location:\", b.argmax())\n",
        "print(\"Max of c location:\", b.argmax())"
      ],
      "execution_count": 23,
      "outputs": [
        {
          "output_type": "stream",
          "text": [
            "Max of a: 95\n",
            "Max of b: 95\n",
            "Max of a location: 18\n",
            "Max of b location: 18\n",
            "Max of c location: 18\n"
          ],
          "name": "stdout"
        }
      ]
    },
    {
      "cell_type": "code",
      "metadata": {
        "id": "NFomfGS1qXH_",
        "colab_type": "code",
        "colab": {
          "base_uri": "https://localhost:8080/",
          "height": 153
        },
        "outputId": "e86b636b-3290-4b65-c677-e4d6a6009071"
      },
      "source": [
        "#Slicing\n",
        "arr = np.arange(0,11)\n",
        "print(\"Array:\",arr)\n",
        "print(\"Element at 7th index is:\", arr[7])\n",
        "print(\"Elements from 3rd to 5th index are:\", arr[3:6])\n",
        "print(\"Elements up to 4th index are:\", arr[:4])\n",
        "print(\"Elements from last backwards are:\", arr[-1::-1])\n",
        "print(\"3 Elements from last backwards are:\", arr[-1:-6:-2])\n",
        "\n",
        "arr = np.arange(0,21,2)\n",
        "print(\"New array:\",arr)\n",
        "print(\"Elements at 2nd, 4th, and 9th index are:\", arr[[2,4,9]]) # Pass a list as a index to subset"
      ],
      "execution_count": 25,
      "outputs": [
        {
          "output_type": "stream",
          "text": [
            "Array: [ 0  1  2  3  4  5  6  7  8  9 10]\n",
            "Element at 7th index is: 7\n",
            "Elements from 3rd to 5th index are: [3 4 5]\n",
            "Elements up to 4th index are: [0 1 2 3]\n",
            "Elements from last backwards are: [10  9  8  7  6  5  4  3  2  1  0]\n",
            "3 Elements from last backwards are: [10  8  6]\n",
            "New array: [ 0  2  4  6  8 10 12 14 16 18 20]\n",
            "Elements at 2nd, 4th, and 9th index are: [ 4  8 18]\n"
          ],
          "name": "stdout"
        }
      ]
    },
    {
      "cell_type": "code",
      "metadata": {
        "id": "GDJnlCYyqhyD",
        "colab_type": "code",
        "colab": {
          "base_uri": "https://localhost:8080/",
          "height": 476
        },
        "outputId": "6360d4dd-518e-4460-9ba5-5413a64a21da"
      },
      "source": [
        "mat = np.array(ri(10,100,15)).reshape(3,5)\n",
        "print(\"Matrix of random 2-digit numbers\\n--------------------------------\\n\",mat)\n",
        "\n",
        "print(\"\\nDouble bracket indexing\\n------------------------\")\n",
        "print(\"Element in row index 1 and column index 2:\", mat[1][2])\n",
        "\n",
        "print(\"\\nSingle bracket with comma indexing\\n----------------------------------\")\n",
        "print(\"Element in row index 1 and column index 2:\", mat[1,2])\n",
        "print(\"\\nRow or column extract\\n----------------------\")\n",
        "\n",
        "print(\"Entire row at index 2:\", mat[2])\n",
        "print(\"Entire column at index 3:\", mat[:,3])\n",
        "\n",
        "print(\"\\nSubsetting sub-matrices\\n--------------------------\")\n",
        "print(\"Matrix with row indices 1 and 2 and column indices 3 and 4\\n\", mat[1:3,3:5])\n",
        "print(\"Matrix with row indices 0 and 1 and column indices 1 and 3\\n\", mat[0:2,[1,3]])"
      ],
      "execution_count": 26,
      "outputs": [
        {
          "output_type": "stream",
          "text": [
            "Matrix of random 2-digit numbers\n",
            "--------------------------------\n",
            " [[26 72 95 50 37]\n",
            " [90 97 68 22 48]\n",
            " [18 99 21 79 71]]\n",
            "\n",
            "Double bracket indexing\n",
            "------------------------\n",
            "Element in row index 1 and column index 2: 68\n",
            "\n",
            "Single bracket with comma indexing\n",
            "----------------------------------\n",
            "Element in row index 1 and column index 2: 68\n",
            "\n",
            "Row or column extract\n",
            "----------------------\n",
            "Entire row at index 2: [18 99 21 79 71]\n",
            "Entire column at index 3: [50 22 79]\n",
            "\n",
            "Subsetting sub-matrices\n",
            "--------------------------\n",
            "Matrix with row indices 1 and 2 and column indices 3 and 4\n",
            " [[22 48]\n",
            " [79 71]]\n",
            "Matrix with row indices 0 and 1 and column indices 1 and 3\n",
            " [[72 50]\n",
            " [97 22]]\n"
          ],
          "name": "stdout"
        }
      ]
    },
    {
      "cell_type": "code",
      "metadata": {
        "id": "IpqGmbeDrGub",
        "colab_type": "code",
        "colab": {
          "base_uri": "https://localhost:8080/",
          "height": 935
        },
        "outputId": "4de7d6f0-6bfc-4169-908c-78cd7e69b34b"
      },
      "source": [
        "mat1 = np.array(ri(1,10,9)).reshape(3,3)\n",
        "mat2 = np.array(ri(1,10,9)).reshape(3,3)\n",
        "print(\"\\n1st Matrix of random single-digit numbers\\n----------------------------------------\\n\",mat1)\n",
        "print(\"\\n2nd Matrix of random single-digit numbers\\n----------------------------------------\\n\",mat2)\n",
        "\n",
        "print(\"\\nAddition\\n------------------\\n\", mat1+mat2)\n",
        "print(\"\\nMultiplication\\n------------------\\n\", mat1*mat2)\n",
        "print(\"\\nDivision\\n------------------\\n\", mat1/mat2)\n",
        "print(\"\\nLineaer combination: 3*A - 2*B\\n-----------------------------\\n\", 3*mat1-2*mat2)\n",
        "\n",
        "print(\"\\nAddition of a scalar (100)\\n-------------------------\\n\", 100+mat1)\n",
        "\n",
        "print(\"\\nExponentiation, matrix cubed here\\n----------------------------------------\\n\", mat1**3)\n",
        "print(\"\\nExponentiation, sq-root using pow function\\n-------------------------------------------\\n\",pow(mat1,0.5))"
      ],
      "execution_count": 27,
      "outputs": [
        {
          "output_type": "stream",
          "text": [
            "\n",
            "1st Matrix of random single-digit numbers\n",
            "----------------------------------------\n",
            " [[1 6 2]\n",
            " [6 5 5]\n",
            " [9 7 7]]\n",
            "\n",
            "2nd Matrix of random single-digit numbers\n",
            "----------------------------------------\n",
            " [[1 5 8]\n",
            " [1 7 6]\n",
            " [2 3 1]]\n",
            "\n",
            "Addition\n",
            "------------------\n",
            " [[ 2 11 10]\n",
            " [ 7 12 11]\n",
            " [11 10  8]]\n",
            "\n",
            "Multiplication\n",
            "------------------\n",
            " [[ 1 30 16]\n",
            " [ 6 35 30]\n",
            " [18 21  7]]\n",
            "\n",
            "Division\n",
            "------------------\n",
            " [[1.         1.2        0.25      ]\n",
            " [6.         0.71428571 0.83333333]\n",
            " [4.5        2.33333333 7.        ]]\n",
            "\n",
            "Lineaer combination: 3*A - 2*B\n",
            "-----------------------------\n",
            " [[  1   8 -10]\n",
            " [ 16   1   3]\n",
            " [ 23  15  19]]\n",
            "\n",
            "Addition of a scalar (100)\n",
            "-------------------------\n",
            " [[101 106 102]\n",
            " [106 105 105]\n",
            " [109 107 107]]\n",
            "\n",
            "Exponentiation, matrix cubed here\n",
            "----------------------------------------\n",
            " [[  1 216   8]\n",
            " [216 125 125]\n",
            " [729 343 343]]\n",
            "\n",
            "Exponentiation, sq-root using pow function\n",
            "-------------------------------------------\n",
            " [[1.         2.44948974 1.41421356]\n",
            " [2.44948974 2.23606798 2.23606798]\n",
            " [3.         2.64575131 2.64575131]]\n"
          ],
          "name": "stdout"
        }
      ]
    },
    {
      "cell_type": "markdown",
      "metadata": {
        "id": "jW7KTVItrLGY",
        "colab_type": "text"
      },
      "source": [
        "**Broadcasting (super cool feature)**\n",
        "NumPy operations are usually done on pairs of arrays on an element-by-element basis. In the simplest case, the two arrays must have exactly the same shape.\n",
        "\n",
        "NumPy’s broadcasting rule relaxes this constraint when the arrays’ shapes meet certain constraints. When operating on two arrays, NumPy compares their shapes element-wise. It starts with the trailing dimensions, and works its way forward. Two dimensions are compatible when\n",
        "\n",
        "they are equal, or\n",
        "one of them is 1\n",
        "If these conditions are not met, a ValueError: frames are not aligned exception is thrown, indicating that the arrays have incompatible shapes. The size of the resulting array is the maximum size along each dimension of the input arrays.\n",
        "\n",
        "For more detail, please look up: https://docs.scipy.org/doc/numpy-1.10.1/user/basics.broadcasting.html"
      ]
    },
    {
      "cell_type": "code",
      "metadata": {
        "id": "bBVpELDprRec",
        "colab_type": "code",
        "colab": {
          "base_uri": "https://localhost:8080/",
          "height": 85
        },
        "outputId": "d674dddb-970b-44b6-9dad-a0620d671a4f"
      },
      "source": [
        "start = np.zeros((4,3))\n",
        "print(start)"
      ],
      "execution_count": 28,
      "outputs": [
        {
          "output_type": "stream",
          "text": [
            "[[0. 0. 0.]\n",
            " [0. 0. 0.]\n",
            " [0. 0. 0.]\n",
            " [0. 0. 0.]]\n"
          ],
          "name": "stdout"
        }
      ]
    },
    {
      "cell_type": "code",
      "metadata": {
        "id": "ffhOZbvArf_3",
        "colab_type": "code",
        "colab": {
          "base_uri": "https://localhost:8080/",
          "height": 34
        },
        "outputId": "ffb1c5ef-cf58-495a-80d2-7cdbb4417228"
      },
      "source": [
        "# create a rank 1 ndarray with 3 values\n",
        "add_rows = np.array([1, 0, 2])\n",
        "print(add_rows)"
      ],
      "execution_count": 29,
      "outputs": [
        {
          "output_type": "stream",
          "text": [
            "[1 0 2]\n"
          ],
          "name": "stdout"
        }
      ]
    },
    {
      "cell_type": "code",
      "metadata": {
        "id": "Kw17ypLpri_-",
        "colab_type": "code",
        "colab": {
          "base_uri": "https://localhost:8080/",
          "height": 85
        },
        "outputId": "e74ffba6-1d07-46b8-9548-0625a4140135"
      },
      "source": [
        "y = start + add_rows  # add to each row of 'start' using broadcasting\n",
        "print(y)"
      ],
      "execution_count": 30,
      "outputs": [
        {
          "output_type": "stream",
          "text": [
            "[[1. 0. 2.]\n",
            " [1. 0. 2.]\n",
            " [1. 0. 2.]\n",
            " [1. 0. 2.]]\n"
          ],
          "name": "stdout"
        }
      ]
    },
    {
      "cell_type": "code",
      "metadata": {
        "id": "YCSicCsdrpAJ",
        "colab_type": "code",
        "colab": {
          "base_uri": "https://localhost:8080/",
          "height": 85
        },
        "outputId": "c09e098b-92fb-4309-8699-3a022335f9fb"
      },
      "source": [
        "# create an ndarray which is 4 x 1 to broadcast across columns\n",
        "add_cols = np.array([[0,1,2,3]])\n",
        "add_cols = add_cols.T\n",
        "print(add_cols)"
      ],
      "execution_count": 31,
      "outputs": [
        {
          "output_type": "stream",
          "text": [
            "[[0]\n",
            " [1]\n",
            " [2]\n",
            " [3]]\n"
          ],
          "name": "stdout"
        }
      ]
    },
    {
      "cell_type": "code",
      "metadata": {
        "id": "wXnMcNFsryug",
        "colab_type": "code",
        "colab": {
          "base_uri": "https://localhost:8080/",
          "height": 85
        },
        "outputId": "18aa5d69-c8da-473a-e55e-0524b75dc3c9"
      },
      "source": [
        "# add to each column of 'start' using broadcasting\n",
        "y = start + add_cols \n",
        "print(y)"
      ],
      "execution_count": 32,
      "outputs": [
        {
          "output_type": "stream",
          "text": [
            "[[0. 0. 0.]\n",
            " [1. 1. 1.]\n",
            " [2. 2. 2.]\n",
            " [3. 3. 3.]]\n"
          ],
          "name": "stdout"
        }
      ]
    },
    {
      "cell_type": "code",
      "metadata": {
        "id": "c5GCTnJRr2vD",
        "colab_type": "code",
        "colab": {
          "base_uri": "https://localhost:8080/",
          "height": 85
        },
        "outputId": "a5e56f73-5ab6-40ef-c449-58022e5ad3d4"
      },
      "source": [
        "# this will just broadcast in both dimensions\n",
        "add_scalar = np.array([100])  \n",
        "print(start+add_scalar)"
      ],
      "execution_count": 33,
      "outputs": [
        {
          "output_type": "stream",
          "text": [
            "[[100. 100. 100.]\n",
            " [100. 100. 100.]\n",
            " [100. 100. 100.]\n",
            " [100. 100. 100.]]\n"
          ],
          "name": "stdout"
        }
      ]
    },
    {
      "cell_type": "markdown",
      "metadata": {
        "id": "dUfHAQn3sGez",
        "colab_type": "text"
      },
      "source": [
        "# Linear Algebra Operations\n",
        "# Dot/Inner/Outer products"
      ]
    },
    {
      "cell_type": "code",
      "metadata": {
        "id": "a-7RUFdDsO-t",
        "colab_type": "code",
        "colab": {
          "base_uri": "https://localhost:8080/",
          "height": 663
        },
        "outputId": "878c36e7-e673-4ca1-d6c6-4db37baba153"
      },
      "source": [
        "A = np.arange(1,10).reshape(3,3)\n",
        "B = ri(1,10,9).reshape(3,3)\n",
        "print(\"\\n1st Matrix of 1-9 single-digit numbers (A)\\n\",\"-\"*50,\"\\n\",A)\n",
        "print(\"\\n2nd Matrix of random single-digit numbers (B)\\n\",\"-\"*50,\"\\n\",B)\n",
        "\n",
        "print(\"\\nDot product of A and B (for 2D arrays it is equivalent to matrix multiplication) \\n\",\"-\"*80,\"\\n\",np.dot(A,B))\n",
        "\n",
        "A = np.arange(1,6)\n",
        "B = ri(1,10,5)\n",
        "print(\"\\n1st Vector of 1-5 numbers (A)\\n\",\"-\"*50,\"\\n\",A)\n",
        "print(\"\\n2nd Vector of 5 random single-digit numbers (B)\\n\",\"-\"*50,\"\\n\",B)\n",
        "\n",
        "print(\"\\nInner product of vectors A and B \\n\",\"-\"*50,\"\\n\",np.inner(A,B), \"(sum of all pairwise elements)\")\n",
        "print(\"\\nOuter product of vectors A and B \\n\",\"-\"*50,\"\\n\",np.outer(A,B))"
      ],
      "execution_count": 34,
      "outputs": [
        {
          "output_type": "stream",
          "text": [
            "\n",
            "1st Matrix of 1-9 single-digit numbers (A)\n",
            " -------------------------------------------------- \n",
            " [[1 2 3]\n",
            " [4 5 6]\n",
            " [7 8 9]]\n",
            "\n",
            "2nd Matrix of random single-digit numbers (B)\n",
            " -------------------------------------------------- \n",
            " [[3 3 8]\n",
            " [5 5 5]\n",
            " [7 3 4]]\n",
            "\n",
            "Dot product of A and B (for 2D arrays it is equivalent to matrix multiplication) \n",
            " -------------------------------------------------------------------------------- \n",
            " [[ 34  22  30]\n",
            " [ 79  55  81]\n",
            " [124  88 132]]\n",
            "\n",
            "1st Vector of 1-5 numbers (A)\n",
            " -------------------------------------------------- \n",
            " [1 2 3 4 5]\n",
            "\n",
            "2nd Vector of 5 random single-digit numbers (B)\n",
            " -------------------------------------------------- \n",
            " [5 2 1 2 5]\n",
            "\n",
            "Inner product of vectors A and B \n",
            " -------------------------------------------------- \n",
            " 45 (sum of all pairwise elements)\n",
            "\n",
            "Outer product of vectors A and B \n",
            " -------------------------------------------------- \n",
            " [[ 5  2  1  2  5]\n",
            " [10  4  2  4 10]\n",
            " [15  6  3  6 15]\n",
            " [20  8  4  8 20]\n",
            " [25 10  5 10 25]]\n"
          ],
          "name": "stdout"
        }
      ]
    },
    {
      "cell_type": "markdown",
      "metadata": {
        "id": "Vhug9wfCson2",
        "colab_type": "text"
      },
      "source": [
        "# TRANSPOSE"
      ]
    },
    {
      "cell_type": "markdown",
      "metadata": {
        "id": "twpvg16JsqU0",
        "colab_type": "text"
      },
      "source": [
        ""
      ]
    },
    {
      "cell_type": "code",
      "metadata": {
        "id": "jZQbgfO8skG0",
        "colab_type": "code",
        "colab": {
          "base_uri": "https://localhost:8080/",
          "height": 510
        },
        "outputId": "3a7172e1-2efd-4849-d27f-692ed38fa94a"
      },
      "source": [
        "A = ri(1,10,9).reshape(3,3)\n",
        "print(\"\\n3x3 Matrix of random single-digit numbers\\n\",\"-\"*50,\"\\n\",A)\n",
        "print(\"\\nMatrix transpose\\n\",\"-\"*50,\"\\n\",np.transpose(A))\n",
        "\n",
        "B = ri(1,10,6).reshape(3,2)\n",
        "print(\"\\n3x2 Matrix of random single-digit numbers\\n\",\"-\"*50,\"\\n\",B)\n",
        "print(\"\\n2x3 Matrix transpose\\n\",\"-\"*50,\"\\n\",np.transpose(B))\n",
        "print(\"\\nMatrix multiplication of B and B-transpose\\n\",\"-\"*50,\"\\n\",np.dot(B, np.transpose(B)))"
      ],
      "execution_count": 35,
      "outputs": [
        {
          "output_type": "stream",
          "text": [
            "\n",
            "3x3 Matrix of random single-digit numbers\n",
            " -------------------------------------------------- \n",
            " [[6 3 6]\n",
            " [5 4 8]\n",
            " [9 9 1]]\n",
            "\n",
            "Matrix transpose\n",
            " -------------------------------------------------- \n",
            " [[6 5 9]\n",
            " [3 4 9]\n",
            " [6 8 1]]\n",
            "\n",
            "3x2 Matrix of random single-digit numbers\n",
            " -------------------------------------------------- \n",
            " [[4 8]\n",
            " [9 9]\n",
            " [8 4]]\n",
            "\n",
            "2x3 Matrix transpose\n",
            " -------------------------------------------------- \n",
            " [[4 9 8]\n",
            " [8 9 4]]\n",
            "\n",
            "Matrix multiplication of B and B-transpose\n",
            " -------------------------------------------------- \n",
            " [[ 80 108  64]\n",
            " [108 162 108]\n",
            " [ 64 108  80]]\n"
          ],
          "name": "stdout"
        }
      ]
    },
    {
      "cell_type": "markdown",
      "metadata": {
        "id": "RTeAONK1s-A9",
        "colab_type": "text"
      },
      "source": [
        ""
      ]
    },
    {
      "cell_type": "code",
      "metadata": {
        "id": "3aq6Gzkps9J_",
        "colab_type": "code",
        "colab": {
          "base_uri": "https://localhost:8080/",
          "height": 340
        },
        "outputId": "0aa49c6e-ec27-4560-82bf-5d701be443cb"
      },
      "source": [
        "A = ri(1,10,16).reshape(4,4)\n",
        "print(\"\\n4x4 Matrix of random single-digit numbers\\n\",\"-\"*50,\"\\n\",A)\n",
        "print(\"\\nMatrix trace\\n\",\"-\"*50,\"\\n\",np.trace(A))\n",
        "print(\"\\nMatrix trace with ofset +1 (upper triangle)\\n\",\"-\"*50,\"\\n\",np.trace(A,offset=1))\n",
        "print(\"\\nMatrix trace with ofset -1 (lower triangle)\\n\",\"-\"*50,\"\\n\",np.trace(A,offset=-1))"
      ],
      "execution_count": 36,
      "outputs": [
        {
          "output_type": "stream",
          "text": [
            "\n",
            "4x4 Matrix of random single-digit numbers\n",
            " -------------------------------------------------- \n",
            " [[2 8 2 3]\n",
            " [8 4 9 4]\n",
            " [5 3 2 9]\n",
            " [3 7 3 6]]\n",
            "\n",
            "Matrix trace\n",
            " -------------------------------------------------- \n",
            " 14\n",
            "\n",
            "Matrix trace with ofset +1 (upper triangle)\n",
            " -------------------------------------------------- \n",
            " 26\n",
            "\n",
            "Matrix trace with ofset -1 (lower triangle)\n",
            " -------------------------------------------------- \n",
            " 14\n"
          ],
          "name": "stdout"
        }
      ]
    },
    {
      "cell_type": "markdown",
      "metadata": {
        "id": "g4SsJbAOtnvb",
        "colab_type": "text"
      },
      "source": [
        "# **Eigenvalues and eigenvectors**"
      ]
    },
    {
      "cell_type": "code",
      "metadata": {
        "id": "AASYWj-FtnJs",
        "colab_type": "code",
        "colab": {
          "base_uri": "https://localhost:8080/",
          "height": 255
        },
        "outputId": "ff47dc0d-d8f0-4544-d786-092c0406f93a"
      },
      "source": [
        "A = np.random.randn(9).reshape(3,3)\n",
        "print(\"Original matrix\\n\",A)\n",
        "print(\"\\n\")\n",
        "w,v=np.linalg.eig(A)\n",
        "print(\"Eigenvalues:\\n\",w)\n",
        "print(\"\\n\")\n",
        "print(\"Eigenvectors:\\n\",v)"
      ],
      "execution_count": 37,
      "outputs": [
        {
          "output_type": "stream",
          "text": [
            "Original matrix\n",
            " [[-0.25383274  1.20637598 -0.44031728]\n",
            " [-0.75332174  0.16343693 -1.85274483]\n",
            " [ 0.60413375  0.59558733 -0.41858453]]\n",
            "\n",
            "\n",
            "Eigenvalues:\n",
            " [ 0.10636252+1.55461751j  0.10636252-1.55461751j -0.72170539+0.j        ]\n",
            "\n",
            "\n",
            "Eigenvectors:\n",
            " [[-0.2316261 +0.52375872j -0.2316261 -0.52375872j -0.71874182+0.j        ]\n",
            " [-0.71780525+0.j         -0.71780525-0.j          0.46681723+0.j        ]\n",
            " [ 0.07206641+0.3893433j   0.07206641-0.3893433j   0.51525904+0.j        ]]\n"
          ],
          "name": "stdout"
        }
      ]
    },
    {
      "cell_type": "markdown",
      "metadata": {
        "id": "ELYrCGdJt-sJ",
        "colab_type": "text"
      },
      "source": [
        "# Linear equation solving, matrix inverse, linear least suqare\n",
        "You can directly solve linear system of equations using NumPy writing only one line of code.\n",
        "\n",
        "Suppose you want to solve the following set of equations for (x,y,z). It is easy to see that (2,1,5) are the unique solutions.\n",
        "\n",
        "2x + 5y + z = 14;\n",
        "\n",
        "3x - 2y - z = -1;\n",
        "\n",
        "x - 3y + z = 4"
      ]
    },
    {
      "cell_type": "code",
      "metadata": {
        "id": "-RwWC-Zxt4NK",
        "colab_type": "code",
        "colab": {
          "base_uri": "https://localhost:8080/",
          "height": 34
        },
        "outputId": "cea0e54a-5efb-4822-9ca3-6db0fd40e805"
      },
      "source": [
        "A = np.array([[2,5,1],[3,-2,-1],[1,-3,1]])\n",
        "B = np.array([14,-1,4])\n",
        "x = np.linalg.solve(A,B)\n",
        "\n",
        "print(\"The solutions are:\",x)"
      ],
      "execution_count": 38,
      "outputs": [
        {
          "output_type": "stream",
          "text": [
            "The solutions are: [2. 1. 5.]\n"
          ],
          "name": "stdout"
        }
      ]
    }
  ]
}